{
 "cells": [
  {
   "cell_type": "code",
   "execution_count": 1,
   "id": "a497b526",
   "metadata": {},
   "outputs": [],
   "source": [
    "import os\n",
    "import sys\n",
    "import itertools\n",
    "import math\n",
    "import logging\n",
    "import json\n",
    "import re\n",
    "import random\n",
    "from collections import OrderedDict\n",
    "import numpy as np\n",
    "import matplotlib\n",
    "import matplotlib.pyplot as plt\n",
    "import matplotlib.patches as patches\n",
    "import matplotlib.lines as lines\n",
    "from matplotlib.patches import Polygon\n",
    "\n",
    "# Root directory of the project\n",
    "ROOT_DIR = os.path.abspath(\"../../\")\n",
    "\n",
    "# Import Mask RCNN\n",
    "sys.path.append(ROOT_DIR)  # To find local version of the library\n",
    "from mrcnn import utils\n",
    "from mrcnn import visualize\n",
    "from mrcnn.visualize import display_images\n",
    "import mrcnn.model as modellib\n",
    "from mrcnn.model import log\n",
    "\n",
    "from samples.borehole import borehole\n",
    "\n",
    "%matplotlib inline "
   ]
  },
  {
   "cell_type": "code",
   "execution_count": 2,
   "id": "bcfda595",
   "metadata": {},
   "outputs": [],
   "source": [
    "train_path = \"../../../../dat/borehole/mask_rcnn/train_dataset.txt\"\n",
    "validation_path = \"../../../../dat/borehole/mask_rcnn/validation_dataset.txt\"\n",
    "test_path = \"../../../../dat/borehole/mask_rcnn/test_dataset.txt\"\n",
    "\n",
    "model_dir = \"../../logs/borehole\""
   ]
  },
  {
   "cell_type": "code",
   "execution_count": 3,
   "id": "99e47607",
   "metadata": {},
   "outputs": [],
   "source": [
    "train_model = borehole.get_model(\"train\", model_dir, startpoint=\"coco\")"
   ]
  },
  {
   "cell_type": "code",
   "execution_count": null,
   "id": "04fb3a2a",
   "metadata": {},
   "outputs": [],
   "source": []
  }
 ],
 "metadata": {
  "kernelspec": {
   "display_name": "Python 3",
   "language": "python",
   "name": "python3"
  },
  "language_info": {
   "codemirror_mode": {
    "name": "ipython",
    "version": 3
   },
   "file_extension": ".py",
   "mimetype": "text/x-python",
   "name": "python",
   "nbconvert_exporter": "python",
   "pygments_lexer": "ipython3",
   "version": "3.8.8"
  }
 },
 "nbformat": 4,
 "nbformat_minor": 5
}
